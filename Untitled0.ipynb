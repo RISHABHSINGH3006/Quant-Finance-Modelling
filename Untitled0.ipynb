{
  "nbformat": 4,
  "nbformat_minor": 0,
  "metadata": {
    "colab": {
      "provenance": []
    },
    "kernelspec": {
      "name": "python3",
      "display_name": "Python 3"
    },
    "language_info": {
      "name": "python"
    }
  },
  "cells": [
    {
      "cell_type": "code",
      "source": [
        "import pandas as pd\n",
        "import numpy as np\n",
        "\n",
        "# Load data\n",
        "df = pd.read_csv('/content/Data.csv', sep=';')\n",
        "\n",
        "# Rename first column for clarity\n",
        "df.rename(columns={'Unnamed: 0': 'Vintage Date'}, inplace=True)\n",
        "\n",
        "# Convert \"Vintage Date\" to datetime\n",
        "df['Vintage Date'] = pd.to_datetime(df['Vintage Date'], format='%d.%m.%Y')\n",
        "\n",
        "# Compute Historical Repayment Percentages\n",
        "repayment_columns = df.columns[2:]  # Exclude 'Vintage Date' and 'Origination Amount'\n",
        "df_rep_percent = df.copy()\n",
        "df_rep_percent[repayment_columns] = df[repayment_columns].div(df['Origination Amount'], axis=0)\n",
        "\n",
        "# Clip repayment percentages to [0,1] to avoid errors\n",
        "df_rep_percent[repayment_columns] = df_rep_percent[repayment_columns].clip(0, 1)\n",
        "\n",
        "# **Fix Repayment Forecasting**\n",
        "def forecast_repayments(row):\n",
        "    forecasted = [row.iloc[1]]  # First repayment is known\n",
        "\n",
        "    # Special case for December 2020 vintage\n",
        "    if pd.isna(row.iloc[2]):\n",
        "        forecasted.append(2 * row.iloc[1])\n",
        "    else:\n",
        "        forecasted.append(row.iloc[2])\n",
        "\n",
        "    for i in range(3, 31):  # Forecast from month 3 to 30\n",
        "        prev_sum = sum(forecasted)\n",
        "\n",
        "        # Ensure log input is always positive and prevents log(0)\n",
        "        log_input = max(1e-3, 1 + (1 - (i - 1) / 30) * (1 - prev_sum))\n",
        "\n",
        "        # Ensure forecasted value does not cause repayments > 100%\n",
        "        p_i = max(forecasted[1] * np.log(log_input), 0)\n",
        "        forecasted.append(p_i)\n",
        "\n",
        "    # **Normalize repayments to ensure total <= 100%**\n",
        "    total_repayment = sum(forecasted)\n",
        "    if total_repayment > 1.0:\n",
        "        forecasted = [p / total_repayment for p in forecasted]\n",
        "\n",
        "    return forecasted\n",
        "\n",
        "df_forecast = df_rep_percent.apply(forecast_repayments, axis=1, result_type='expand')\n",
        "\n",
        "# **Compute Forecasted Cash Flows**\n",
        "df_cash_flows = df_forecast.multiply(df['Origination Amount'], axis=0)\n",
        "\n",
        "# **Fix Discounting**\n",
        "annual_rate = 0.025\n",
        "monthly_rate = (1 + annual_rate) ** (1/12) - 1  # Correct monthly rate\n",
        "\n",
        "# Discount all cash flows **back to Dec 31, 2020**\n",
        "discount_factors = [(1 / (1 + monthly_rate)) ** i for i in range(1, 31)]\n",
        "df_discounted = df_cash_flows.multiply(discount_factors, axis=1)\n",
        "\n",
        "# **Compute Present Value of Portfolio**\n",
        "portfolio_value = df_discounted.sum().sum()\n",
        "\n",
        "# **Compare with Client's Estimate**\n",
        "client_estimate = 84993122.67\n",
        "difference = abs(portfolio_value - client_estimate)\n",
        "relative_difference = (difference / client_estimate) * 100\n",
        "\n",
        "# **Print Final Results**\n",
        "print(f\"Computed Portfolio Value: CHF {portfolio_value:,.2f}\")\n",
        "print(f\"Absolute Difference: CHF {difference:,.2f}\")\n",
        "print(f\"Relative Difference: {relative_difference:.4f}%\")\n",
        "print(\"Acceptable Difference?\" , \"Yes\" if difference < 500000 else \"No\")\n"
      ],
      "metadata": {
        "colab": {
          "base_uri": "https://localhost:8080/"
        },
        "id": "b6ALKzms6CL8",
        "outputId": "ae8a391d-877a-46fb-a6eb-c29ed783af3c"
      },
      "execution_count": 29,
      "outputs": [
        {
          "output_type": "stream",
          "name": "stdout",
          "text": [
            "Computed Portfolio Value: CHF 397,969,594.42\n",
            "Absolute Difference: CHF 312,976,471.75\n",
            "Relative Difference: 368.2374%\n",
            "Acceptable Difference? No\n"
          ]
        }
      ]
    },
    {
      "cell_type": "code",
      "source": [],
      "metadata": {
        "id": "3pyMQPWr-uS5"
      },
      "execution_count": null,
      "outputs": []
    }
  ]
}